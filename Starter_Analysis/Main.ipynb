{
 "cells": [
  {
   "cell_type": "code",
   "id": "initial_id",
   "metadata": {
    "collapsed": true,
    "ExecuteTime": {
     "end_time": "2024-11-11T14:10:13.423163Z",
     "start_time": "2024-11-11T14:10:13.415278Z"
    }
   },
   "source": [
    "from mpl_toolkits.mplot3d import Axes3D\n",
    "from sklearn.preprocessing import StandardScaler\n",
    "import matplotlib.pyplot as plt # plotting\n",
    "import numpy as np # linear algebra\n",
    "import os # accessing directory structure\n",
    "import pandas as pd # data processing"
   ],
   "outputs": [],
   "execution_count": 21
  },
  {
   "metadata": {
    "ExecuteTime": {
     "end_time": "2024-11-11T14:10:13.470384Z",
     "start_time": "2024-11-11T14:10:13.461185Z"
    }
   },
   "cell_type": "code",
   "source": "print(os.listdir('C:\\\\Users\\\\CRAIA-AREA EDUCATORI\\\\Documents\\\\Università\\\\Machine Learning\\\\beer_data'))",
   "id": "bf927675665623b2",
   "outputs": [
    {
     "name": "stdout",
     "output_type": "stream",
     "text": [
      "['beer_reviews.csv']\n"
     ]
    }
   ],
   "execution_count": 22
  },
  {
   "metadata": {
    "ExecuteTime": {
     "end_time": "2024-11-11T14:10:13.533418Z",
     "start_time": "2024-11-11T14:10:13.519874Z"
    }
   },
   "cell_type": "code",
   "source": [
    "# Distribution graphs (histogram/bar graph) of column data\n",
    "def plotPerColumnDistribution(df, nGraphShown, nGraphPerRow):\n",
    "    nunique = df.nunique()\n",
    "    df = df[[col for col in df if nunique[col] > 1 and nunique[col] < 50]] # For displaying purposes, pick columns that have between 1 and 50 unique values\n",
    "    nRow, nCol = df.shape\n",
    "    columnNames = list(df)\n",
    "    nGraphRow = (nCol + nGraphPerRow - 1) / nGraphPerRow\n",
    "    plt.figure(num = None, figsize = (6 * nGraphPerRow, 8 * nGraphRow), dpi = 80, facecolor = 'w', edgecolor = 'k')\n",
    "    for i in range(min(nCol, nGraphShown)):\n",
    "        plt.subplot(nGraphRow, nGraphPerRow, i + 1)\n",
    "        columnDf = df.iloc[:, i]\n",
    "        if (not np.issubdtype(type(columnDf.iloc[0]), np.number)):\n",
    "            valueCounts = columnDf.value_counts()\n",
    "            valueCounts.plot.bar()\n",
    "        else:\n",
    "            columnDf.hist()\n",
    "        plt.ylabel('counts')\n",
    "        plt.xticks(rotation = 90)\n",
    "        plt.title(f'{columnNames[i]} (column {i})')\n",
    "    plt.tight_layout(pad = 1.0, w_pad = 1.0, h_pad = 1.0)\n",
    "    plt.show()"
   ],
   "id": "145be0c44853d75e",
   "outputs": [],
   "execution_count": 23
  },
  {
   "metadata": {
    "ExecuteTime": {
     "end_time": "2024-11-11T14:10:13.586959Z",
     "start_time": "2024-11-11T14:10:13.573402Z"
    }
   },
   "cell_type": "code",
   "source": [
    "# Correlation matrix\n",
    "def plotCorrelationMatrix(df, graphWidth):\n",
    "    filename = df.dataframeName\n",
    "    df = df.dropna('columns') # drop columns with NaN\n",
    "    df = df[[col for col in df if df[col].nunique() > 1]] # keep columns where there are more than 1 unique values\n",
    "    if df.shape[1] < 2:\n",
    "        print(f'No correlation plots shown: The number of non-NaN or constant columns ({df.shape[1]}) is less than 2')\n",
    "        return\n",
    "    corr = df.corr()\n",
    "    plt.figure(num=None, figsize=(graphWidth, graphWidth), dpi=80, facecolor='w', edgecolor='k')\n",
    "    corrMat = plt.matshow(corr, fignum = 1)\n",
    "    plt.xticks(range(len(corr.columns)), corr.columns, rotation=90)\n",
    "    plt.yticks(range(len(corr.columns)), corr.columns)\n",
    "    plt.gca().xaxis.tick_bottom()\n",
    "    plt.colorbar(corrMat)\n",
    "    plt.title(f'Correlation Matrix for {filename}', fontsize=15)\n",
    "    plt.show()"
   ],
   "id": "4d8725f46d5ebb56",
   "outputs": [],
   "execution_count": 24
  },
  {
   "metadata": {
    "ExecuteTime": {
     "end_time": "2024-11-11T14:10:13.634948Z",
     "start_time": "2024-11-11T14:10:13.621882Z"
    }
   },
   "cell_type": "code",
   "source": [
    "# Scatter and density plots\n",
    "def plotScatterMatrix(df, plotSize, textSize):\n",
    "    df = df.select_dtypes(include =[np.number]) # keep only numerical columns\n",
    "    # Remove rows and columns that would lead to df being singular\n",
    "    df = df.dropna('columns')\n",
    "    df = df[[col for col in df if df[col].nunique() > 1]] # keep columns where there are more than 1 unique values\n",
    "    columnNames = list(df)\n",
    "    if len(columnNames) > 10: # reduce the number of columns for matrix inversion of kernel density plots\n",
    "        columnNames = columnNames[:10]\n",
    "    df = df[columnNames]\n",
    "    ax = pd.plotting.scatter_matrix(df, alpha=0.75, figsize=[plotSize, plotSize], diagonal='kde')\n",
    "    corrs = df.corr().values\n",
    "    for i, j in zip(*plt.np.triu_indices_from(ax, k = 1)):\n",
    "        ax[i, j].annotate('Corr. coef = %.3f' % corrs[i, j], (0.8, 0.2), xycoords='axes fraction', ha='center', va='center', size=textSize)\n",
    "    plt.suptitle('Scatter and Density Plot')\n",
    "    plt.show()"
   ],
   "id": "132ec16c31252d5a",
   "outputs": [],
   "execution_count": 25
  },
  {
   "metadata": {
    "ExecuteTime": {
     "end_time": "2024-11-11T14:10:13.745215Z",
     "start_time": "2024-11-11T14:10:13.702132Z"
    }
   },
   "cell_type": "code",
   "source": [
    "nRowsRead = 1000 # specify 'None' if want to read whole file\n",
    "# beer_reviews.csv has 1586614 rows in reality, but we are only loading/previewing the first 1000 rows\n",
    "df1 = pd.read_csv('C:\\\\Users\\\\CRAIA-AREA EDUCATORI\\\\Documents\\\\Università\\\\Machine Learning\\\\beer_data\\\\beer_reviews.csv', delimiter=',', nrows = nRowsRead)\n",
    "df1.dataframeName = 'beer_reviews.csv'\n",
    "nRow, nCol = df1.shape\n",
    "print(f'There are {nRow} rows and {nCol} columns')"
   ],
   "id": "129413561316302",
   "outputs": [
    {
     "name": "stdout",
     "output_type": "stream",
     "text": [
      "There are 1000 rows and 13 columns\n"
     ]
    }
   ],
   "execution_count": 26
  },
  {
   "metadata": {
    "ExecuteTime": {
     "end_time": "2024-11-11T14:10:13.851840Z",
     "start_time": "2024-11-11T14:10:13.802233Z"
    }
   },
   "cell_type": "code",
   "source": "df1.head(5)",
   "id": "94b91dbdea23f305",
   "outputs": [
    {
     "data": {
      "text/plain": [
       "   brewery_id             brewery_name  review_time  review_overall  \\\n",
       "0       10325          Vecchio Birraio   1234817823             1.5   \n",
       "1       10325          Vecchio Birraio   1235915097             3.0   \n",
       "2       10325          Vecchio Birraio   1235916604             3.0   \n",
       "3       10325          Vecchio Birraio   1234725145             3.0   \n",
       "4        1075  Caldera Brewing Company   1293735206             4.0   \n",
       "\n",
       "   review_aroma  review_appearance review_profilename  \\\n",
       "0           2.0                2.5            stcules   \n",
       "1           2.5                3.0            stcules   \n",
       "2           2.5                3.0            stcules   \n",
       "3           3.0                3.5            stcules   \n",
       "4           4.5                4.0     johnmichaelsen   \n",
       "\n",
       "                       beer_style  review_palate  review_taste  \\\n",
       "0                      Hefeweizen            1.5           1.5   \n",
       "1              English Strong Ale            3.0           3.0   \n",
       "2          Foreign / Export Stout            3.0           3.0   \n",
       "3                 German Pilsener            2.5           3.0   \n",
       "4  American Double / Imperial IPA            4.0           4.5   \n",
       "\n",
       "                beer_name  beer_abv  beer_beerid  \n",
       "0            Sausa Weizen       5.0        47986  \n",
       "1                Red Moon       6.2        48213  \n",
       "2  Black Horse Black Beer       6.5        48215  \n",
       "3              Sausa Pils       5.0        47969  \n",
       "4           Cauldron DIPA       7.7        64883  "
      ],
      "text/html": [
       "<div>\n",
       "<style scoped>\n",
       "    .dataframe tbody tr th:only-of-type {\n",
       "        vertical-align: middle;\n",
       "    }\n",
       "\n",
       "    .dataframe tbody tr th {\n",
       "        vertical-align: top;\n",
       "    }\n",
       "\n",
       "    .dataframe thead th {\n",
       "        text-align: right;\n",
       "    }\n",
       "</style>\n",
       "<table border=\"1\" class=\"dataframe\">\n",
       "  <thead>\n",
       "    <tr style=\"text-align: right;\">\n",
       "      <th></th>\n",
       "      <th>brewery_id</th>\n",
       "      <th>brewery_name</th>\n",
       "      <th>review_time</th>\n",
       "      <th>review_overall</th>\n",
       "      <th>review_aroma</th>\n",
       "      <th>review_appearance</th>\n",
       "      <th>review_profilename</th>\n",
       "      <th>beer_style</th>\n",
       "      <th>review_palate</th>\n",
       "      <th>review_taste</th>\n",
       "      <th>beer_name</th>\n",
       "      <th>beer_abv</th>\n",
       "      <th>beer_beerid</th>\n",
       "    </tr>\n",
       "  </thead>\n",
       "  <tbody>\n",
       "    <tr>\n",
       "      <th>0</th>\n",
       "      <td>10325</td>\n",
       "      <td>Vecchio Birraio</td>\n",
       "      <td>1234817823</td>\n",
       "      <td>1.5</td>\n",
       "      <td>2.0</td>\n",
       "      <td>2.5</td>\n",
       "      <td>stcules</td>\n",
       "      <td>Hefeweizen</td>\n",
       "      <td>1.5</td>\n",
       "      <td>1.5</td>\n",
       "      <td>Sausa Weizen</td>\n",
       "      <td>5.0</td>\n",
       "      <td>47986</td>\n",
       "    </tr>\n",
       "    <tr>\n",
       "      <th>1</th>\n",
       "      <td>10325</td>\n",
       "      <td>Vecchio Birraio</td>\n",
       "      <td>1235915097</td>\n",
       "      <td>3.0</td>\n",
       "      <td>2.5</td>\n",
       "      <td>3.0</td>\n",
       "      <td>stcules</td>\n",
       "      <td>English Strong Ale</td>\n",
       "      <td>3.0</td>\n",
       "      <td>3.0</td>\n",
       "      <td>Red Moon</td>\n",
       "      <td>6.2</td>\n",
       "      <td>48213</td>\n",
       "    </tr>\n",
       "    <tr>\n",
       "      <th>2</th>\n",
       "      <td>10325</td>\n",
       "      <td>Vecchio Birraio</td>\n",
       "      <td>1235916604</td>\n",
       "      <td>3.0</td>\n",
       "      <td>2.5</td>\n",
       "      <td>3.0</td>\n",
       "      <td>stcules</td>\n",
       "      <td>Foreign / Export Stout</td>\n",
       "      <td>3.0</td>\n",
       "      <td>3.0</td>\n",
       "      <td>Black Horse Black Beer</td>\n",
       "      <td>6.5</td>\n",
       "      <td>48215</td>\n",
       "    </tr>\n",
       "    <tr>\n",
       "      <th>3</th>\n",
       "      <td>10325</td>\n",
       "      <td>Vecchio Birraio</td>\n",
       "      <td>1234725145</td>\n",
       "      <td>3.0</td>\n",
       "      <td>3.0</td>\n",
       "      <td>3.5</td>\n",
       "      <td>stcules</td>\n",
       "      <td>German Pilsener</td>\n",
       "      <td>2.5</td>\n",
       "      <td>3.0</td>\n",
       "      <td>Sausa Pils</td>\n",
       "      <td>5.0</td>\n",
       "      <td>47969</td>\n",
       "    </tr>\n",
       "    <tr>\n",
       "      <th>4</th>\n",
       "      <td>1075</td>\n",
       "      <td>Caldera Brewing Company</td>\n",
       "      <td>1293735206</td>\n",
       "      <td>4.0</td>\n",
       "      <td>4.5</td>\n",
       "      <td>4.0</td>\n",
       "      <td>johnmichaelsen</td>\n",
       "      <td>American Double / Imperial IPA</td>\n",
       "      <td>4.0</td>\n",
       "      <td>4.5</td>\n",
       "      <td>Cauldron DIPA</td>\n",
       "      <td>7.7</td>\n",
       "      <td>64883</td>\n",
       "    </tr>\n",
       "  </tbody>\n",
       "</table>\n",
       "</div>"
      ]
     },
     "execution_count": 27,
     "metadata": {},
     "output_type": "execute_result"
    }
   ],
   "execution_count": 27
  },
  {
   "metadata": {
    "ExecuteTime": {
     "end_time": "2024-11-11T14:10:14.338523Z",
     "start_time": "2024-11-11T14:10:14.036081Z"
    }
   },
   "cell_type": "code",
   "source": "plotPerColumnDistribution(df1, 10, 5)",
   "id": "1f1f6ee154479da6",
   "outputs": [
    {
     "ename": "ValueError",
     "evalue": "Number of rows must be a positive integer, not 2.6",
     "output_type": "error",
     "traceback": [
      "\u001B[1;31m---------------------------------------------------------------------------\u001B[0m",
      "\u001B[1;31mValueError\u001B[0m                                Traceback (most recent call last)",
      "Cell \u001B[1;32mIn[28], line 1\u001B[0m\n\u001B[1;32m----> 1\u001B[0m \u001B[43mplotPerColumnDistribution\u001B[49m\u001B[43m(\u001B[49m\u001B[43mdf1\u001B[49m\u001B[43m,\u001B[49m\u001B[43m \u001B[49m\u001B[38;5;241;43m10\u001B[39;49m\u001B[43m,\u001B[49m\u001B[43m \u001B[49m\u001B[38;5;241;43m5\u001B[39;49m\u001B[43m)\u001B[49m\n",
      "Cell \u001B[1;32mIn[23], line 10\u001B[0m, in \u001B[0;36mplotPerColumnDistribution\u001B[1;34m(df, nGraphShown, nGraphPerRow)\u001B[0m\n\u001B[0;32m      8\u001B[0m plt\u001B[38;5;241m.\u001B[39mfigure(num \u001B[38;5;241m=\u001B[39m \u001B[38;5;28;01mNone\u001B[39;00m, figsize \u001B[38;5;241m=\u001B[39m (\u001B[38;5;241m6\u001B[39m \u001B[38;5;241m*\u001B[39m nGraphPerRow, \u001B[38;5;241m8\u001B[39m \u001B[38;5;241m*\u001B[39m nGraphRow), dpi \u001B[38;5;241m=\u001B[39m \u001B[38;5;241m80\u001B[39m, facecolor \u001B[38;5;241m=\u001B[39m \u001B[38;5;124m'\u001B[39m\u001B[38;5;124mw\u001B[39m\u001B[38;5;124m'\u001B[39m, edgecolor \u001B[38;5;241m=\u001B[39m \u001B[38;5;124m'\u001B[39m\u001B[38;5;124mk\u001B[39m\u001B[38;5;124m'\u001B[39m)\n\u001B[0;32m      9\u001B[0m \u001B[38;5;28;01mfor\u001B[39;00m i \u001B[38;5;129;01min\u001B[39;00m \u001B[38;5;28mrange\u001B[39m(\u001B[38;5;28mmin\u001B[39m(nCol, nGraphShown)):\n\u001B[1;32m---> 10\u001B[0m     \u001B[43mplt\u001B[49m\u001B[38;5;241;43m.\u001B[39;49m\u001B[43msubplot\u001B[49m\u001B[43m(\u001B[49m\u001B[43mnGraphRow\u001B[49m\u001B[43m,\u001B[49m\u001B[43m \u001B[49m\u001B[43mnGraphPerRow\u001B[49m\u001B[43m,\u001B[49m\u001B[43m \u001B[49m\u001B[43mi\u001B[49m\u001B[43m \u001B[49m\u001B[38;5;241;43m+\u001B[39;49m\u001B[43m \u001B[49m\u001B[38;5;241;43m1\u001B[39;49m\u001B[43m)\u001B[49m\n\u001B[0;32m     11\u001B[0m     columnDf \u001B[38;5;241m=\u001B[39m df\u001B[38;5;241m.\u001B[39miloc[:, i]\n\u001B[0;32m     12\u001B[0m     \u001B[38;5;28;01mif\u001B[39;00m (\u001B[38;5;129;01mnot\u001B[39;00m np\u001B[38;5;241m.\u001B[39missubdtype(\u001B[38;5;28mtype\u001B[39m(columnDf\u001B[38;5;241m.\u001B[39miloc[\u001B[38;5;241m0\u001B[39m]), np\u001B[38;5;241m.\u001B[39mnumber)):\n",
      "File \u001B[1;32m~\\Documents\\Università\\interprete\\Lib\\site-packages\\matplotlib\\pyplot.py:1534\u001B[0m, in \u001B[0;36msubplot\u001B[1;34m(*args, **kwargs)\u001B[0m\n\u001B[0;32m   1531\u001B[0m fig \u001B[38;5;241m=\u001B[39m gcf()\n\u001B[0;32m   1533\u001B[0m \u001B[38;5;66;03m# First, search for an existing subplot with a matching spec.\u001B[39;00m\n\u001B[1;32m-> 1534\u001B[0m key \u001B[38;5;241m=\u001B[39m \u001B[43mSubplotSpec\u001B[49m\u001B[38;5;241;43m.\u001B[39;49m\u001B[43m_from_subplot_args\u001B[49m\u001B[43m(\u001B[49m\u001B[43mfig\u001B[49m\u001B[43m,\u001B[49m\u001B[43m \u001B[49m\u001B[43margs\u001B[49m\u001B[43m)\u001B[49m\n\u001B[0;32m   1536\u001B[0m \u001B[38;5;28;01mfor\u001B[39;00m ax \u001B[38;5;129;01min\u001B[39;00m fig\u001B[38;5;241m.\u001B[39maxes:\n\u001B[0;32m   1537\u001B[0m     \u001B[38;5;66;03m# If we found an Axes at the position, we can reuse it if the user passed no\u001B[39;00m\n\u001B[0;32m   1538\u001B[0m     \u001B[38;5;66;03m# kwargs or if the Axes class and kwargs are identical.\u001B[39;00m\n\u001B[0;32m   1539\u001B[0m     \u001B[38;5;28;01mif\u001B[39;00m (ax\u001B[38;5;241m.\u001B[39mget_subplotspec() \u001B[38;5;241m==\u001B[39m key\n\u001B[0;32m   1540\u001B[0m         \u001B[38;5;129;01mand\u001B[39;00m (kwargs \u001B[38;5;241m==\u001B[39m {}\n\u001B[0;32m   1541\u001B[0m              \u001B[38;5;129;01mor\u001B[39;00m (ax\u001B[38;5;241m.\u001B[39m_projection_init\n\u001B[0;32m   1542\u001B[0m                  \u001B[38;5;241m==\u001B[39m fig\u001B[38;5;241m.\u001B[39m_process_projection_requirements(\u001B[38;5;241m*\u001B[39m\u001B[38;5;241m*\u001B[39mkwargs)))):\n",
      "File \u001B[1;32m~\\Documents\\Università\\interprete\\Lib\\site-packages\\matplotlib\\gridspec.py:578\u001B[0m, in \u001B[0;36mSubplotSpec._from_subplot_args\u001B[1;34m(figure, args)\u001B[0m\n\u001B[0;32m    575\u001B[0m \u001B[38;5;28;01melse\u001B[39;00m:\n\u001B[0;32m    576\u001B[0m     \u001B[38;5;28;01mraise\u001B[39;00m _api\u001B[38;5;241m.\u001B[39mnargs_error(\u001B[38;5;124m\"\u001B[39m\u001B[38;5;124msubplot\u001B[39m\u001B[38;5;124m\"\u001B[39m, takes\u001B[38;5;241m=\u001B[39m\u001B[38;5;124m\"\u001B[39m\u001B[38;5;124m1 or 3\u001B[39m\u001B[38;5;124m\"\u001B[39m, given\u001B[38;5;241m=\u001B[39m\u001B[38;5;28mlen\u001B[39m(args))\n\u001B[1;32m--> 578\u001B[0m gs \u001B[38;5;241m=\u001B[39m \u001B[43mGridSpec\u001B[49m\u001B[38;5;241;43m.\u001B[39;49m\u001B[43m_check_gridspec_exists\u001B[49m\u001B[43m(\u001B[49m\u001B[43mfigure\u001B[49m\u001B[43m,\u001B[49m\u001B[43m \u001B[49m\u001B[43mrows\u001B[49m\u001B[43m,\u001B[49m\u001B[43m \u001B[49m\u001B[43mcols\u001B[49m\u001B[43m)\u001B[49m\n\u001B[0;32m    579\u001B[0m \u001B[38;5;28;01mif\u001B[39;00m gs \u001B[38;5;129;01mis\u001B[39;00m \u001B[38;5;28;01mNone\u001B[39;00m:\n\u001B[0;32m    580\u001B[0m     gs \u001B[38;5;241m=\u001B[39m GridSpec(rows, cols, figure\u001B[38;5;241m=\u001B[39mfigure)\n",
      "File \u001B[1;32m~\\Documents\\Università\\interprete\\Lib\\site-packages\\matplotlib\\gridspec.py:210\u001B[0m, in \u001B[0;36mGridSpecBase._check_gridspec_exists\u001B[1;34m(figure, nrows, ncols)\u001B[0m\n\u001B[0;32m    208\u001B[0m             \u001B[38;5;28;01mreturn\u001B[39;00m gs\n\u001B[0;32m    209\u001B[0m \u001B[38;5;66;03m# else gridspec not found:\u001B[39;00m\n\u001B[1;32m--> 210\u001B[0m \u001B[38;5;28;01mreturn\u001B[39;00m \u001B[43mGridSpec\u001B[49m\u001B[43m(\u001B[49m\u001B[43mnrows\u001B[49m\u001B[43m,\u001B[49m\u001B[43m \u001B[49m\u001B[43mncols\u001B[49m\u001B[43m,\u001B[49m\u001B[43m \u001B[49m\u001B[43mfigure\u001B[49m\u001B[38;5;241;43m=\u001B[39;49m\u001B[43mfigure\u001B[49m\u001B[43m)\u001B[49m\n",
      "File \u001B[1;32m~\\Documents\\Università\\interprete\\Lib\\site-packages\\matplotlib\\gridspec.py:363\u001B[0m, in \u001B[0;36mGridSpec.__init__\u001B[1;34m(self, nrows, ncols, figure, left, bottom, right, top, wspace, hspace, width_ratios, height_ratios)\u001B[0m\n\u001B[0;32m    360\u001B[0m \u001B[38;5;28mself\u001B[39m\u001B[38;5;241m.\u001B[39mhspace \u001B[38;5;241m=\u001B[39m hspace\n\u001B[0;32m    361\u001B[0m \u001B[38;5;28mself\u001B[39m\u001B[38;5;241m.\u001B[39mfigure \u001B[38;5;241m=\u001B[39m figure\n\u001B[1;32m--> 363\u001B[0m \u001B[38;5;28;43msuper\u001B[39;49m\u001B[43m(\u001B[49m\u001B[43m)\u001B[49m\u001B[38;5;241;43m.\u001B[39;49m\u001B[38;5;21;43m__init__\u001B[39;49m\u001B[43m(\u001B[49m\u001B[43mnrows\u001B[49m\u001B[43m,\u001B[49m\u001B[43m \u001B[49m\u001B[43mncols\u001B[49m\u001B[43m,\u001B[49m\n\u001B[0;32m    364\u001B[0m \u001B[43m                 \u001B[49m\u001B[43mwidth_ratios\u001B[49m\u001B[38;5;241;43m=\u001B[39;49m\u001B[43mwidth_ratios\u001B[49m\u001B[43m,\u001B[49m\n\u001B[0;32m    365\u001B[0m \u001B[43m                 \u001B[49m\u001B[43mheight_ratios\u001B[49m\u001B[38;5;241;43m=\u001B[39;49m\u001B[43mheight_ratios\u001B[49m\u001B[43m)\u001B[49m\n",
      "File \u001B[1;32m~\\Documents\\Università\\interprete\\Lib\\site-packages\\matplotlib\\gridspec.py:48\u001B[0m, in \u001B[0;36mGridSpecBase.__init__\u001B[1;34m(self, nrows, ncols, height_ratios, width_ratios)\u001B[0m\n\u001B[0;32m     33\u001B[0m \u001B[38;5;250m\u001B[39m\u001B[38;5;124;03m\"\"\"\u001B[39;00m\n\u001B[0;32m     34\u001B[0m \u001B[38;5;124;03mParameters\u001B[39;00m\n\u001B[0;32m     35\u001B[0m \u001B[38;5;124;03m----------\u001B[39;00m\n\u001B[1;32m   (...)\u001B[0m\n\u001B[0;32m     45\u001B[0m \u001B[38;5;124;03m    If not given, all rows will have the same height.\u001B[39;00m\n\u001B[0;32m     46\u001B[0m \u001B[38;5;124;03m\"\"\"\u001B[39;00m\n\u001B[0;32m     47\u001B[0m \u001B[38;5;28;01mif\u001B[39;00m \u001B[38;5;129;01mnot\u001B[39;00m \u001B[38;5;28misinstance\u001B[39m(nrows, Integral) \u001B[38;5;129;01mor\u001B[39;00m nrows \u001B[38;5;241m<\u001B[39m\u001B[38;5;241m=\u001B[39m \u001B[38;5;241m0\u001B[39m:\n\u001B[1;32m---> 48\u001B[0m     \u001B[38;5;28;01mraise\u001B[39;00m \u001B[38;5;167;01mValueError\u001B[39;00m(\n\u001B[0;32m     49\u001B[0m         \u001B[38;5;124mf\u001B[39m\u001B[38;5;124m\"\u001B[39m\u001B[38;5;124mNumber of rows must be a positive integer, not \u001B[39m\u001B[38;5;132;01m{\u001B[39;00mnrows\u001B[38;5;132;01m!r}\u001B[39;00m\u001B[38;5;124m\"\u001B[39m)\n\u001B[0;32m     50\u001B[0m \u001B[38;5;28;01mif\u001B[39;00m \u001B[38;5;129;01mnot\u001B[39;00m \u001B[38;5;28misinstance\u001B[39m(ncols, Integral) \u001B[38;5;129;01mor\u001B[39;00m ncols \u001B[38;5;241m<\u001B[39m\u001B[38;5;241m=\u001B[39m \u001B[38;5;241m0\u001B[39m:\n\u001B[0;32m     51\u001B[0m     \u001B[38;5;28;01mraise\u001B[39;00m \u001B[38;5;167;01mValueError\u001B[39;00m(\n\u001B[0;32m     52\u001B[0m         \u001B[38;5;124mf\u001B[39m\u001B[38;5;124m\"\u001B[39m\u001B[38;5;124mNumber of columns must be a positive integer, not \u001B[39m\u001B[38;5;132;01m{\u001B[39;00mncols\u001B[38;5;132;01m!r}\u001B[39;00m\u001B[38;5;124m\"\u001B[39m)\n",
      "\u001B[1;31mValueError\u001B[0m: Number of rows must be a positive integer, not 2.6"
     ]
    },
    {
     "data": {
      "text/plain": [
       "<Figure size 2400x1664 with 0 Axes>"
      ]
     },
     "metadata": {},
     "output_type": "display_data"
    }
   ],
   "execution_count": 28
  },
  {
   "metadata": {
    "ExecuteTime": {
     "end_time": "2024-11-11T14:10:14.381542200Z",
     "start_time": "2024-11-11T14:08:14.345427Z"
    }
   },
   "cell_type": "code",
   "source": "plotCorrelationMatrix(df1, 8)",
   "id": "2180c1fd5324838e",
   "outputs": [
    {
     "ename": "TypeError",
     "evalue": "DataFrame.dropna() takes 1 positional argument but 2 were given",
     "output_type": "error",
     "traceback": [
      "\u001B[1;31m---------------------------------------------------------------------------\u001B[0m",
      "\u001B[1;31mTypeError\u001B[0m                                 Traceback (most recent call last)",
      "Cell \u001B[1;32mIn[19], line 1\u001B[0m\n\u001B[1;32m----> 1\u001B[0m \u001B[43mplotCorrelationMatrix\u001B[49m\u001B[43m(\u001B[49m\u001B[43mdf1\u001B[49m\u001B[43m,\u001B[49m\u001B[43m \u001B[49m\u001B[38;5;241;43m8\u001B[39;49m\u001B[43m)\u001B[49m\n",
      "Cell \u001B[1;32mIn[11], line 4\u001B[0m, in \u001B[0;36mplotCorrelationMatrix\u001B[1;34m(df, graphWidth)\u001B[0m\n\u001B[0;32m      2\u001B[0m \u001B[38;5;28;01mdef\u001B[39;00m \u001B[38;5;21mplotCorrelationMatrix\u001B[39m(df, graphWidth):\n\u001B[0;32m      3\u001B[0m     filename \u001B[38;5;241m=\u001B[39m df\u001B[38;5;241m.\u001B[39mdataframeName\n\u001B[1;32m----> 4\u001B[0m     df \u001B[38;5;241m=\u001B[39m \u001B[43mdf\u001B[49m\u001B[38;5;241;43m.\u001B[39;49m\u001B[43mdropna\u001B[49m\u001B[43m(\u001B[49m\u001B[38;5;124;43m'\u001B[39;49m\u001B[38;5;124;43mcolumns\u001B[39;49m\u001B[38;5;124;43m'\u001B[39;49m\u001B[43m)\u001B[49m \u001B[38;5;66;03m# drop columns with NaN\u001B[39;00m\n\u001B[0;32m      5\u001B[0m     df \u001B[38;5;241m=\u001B[39m df[[col \u001B[38;5;28;01mfor\u001B[39;00m col \u001B[38;5;129;01min\u001B[39;00m df \u001B[38;5;28;01mif\u001B[39;00m df[col]\u001B[38;5;241m.\u001B[39mnunique() \u001B[38;5;241m>\u001B[39m \u001B[38;5;241m1\u001B[39m]] \u001B[38;5;66;03m# keep columns where there are more than 1 unique values\u001B[39;00m\n\u001B[0;32m      6\u001B[0m     \u001B[38;5;28;01mif\u001B[39;00m df\u001B[38;5;241m.\u001B[39mshape[\u001B[38;5;241m1\u001B[39m] \u001B[38;5;241m<\u001B[39m \u001B[38;5;241m2\u001B[39m:\n",
      "\u001B[1;31mTypeError\u001B[0m: DataFrame.dropna() takes 1 positional argument but 2 were given"
     ]
    }
   ],
   "execution_count": 19
  },
  {
   "metadata": {
    "ExecuteTime": {
     "end_time": "2024-11-11T14:10:14.382541Z",
     "start_time": "2024-11-11T14:10:03.893959Z"
    }
   },
   "cell_type": "code",
   "source": "plotScatterMatrix(df1, 20, 10)",
   "id": "7593115e070b30",
   "outputs": [
    {
     "ename": "TypeError",
     "evalue": "DataFrame.dropna() takes 1 positional argument but 2 were given",
     "output_type": "error",
     "traceback": [
      "\u001B[1;31m---------------------------------------------------------------------------\u001B[0m",
      "\u001B[1;31mTypeError\u001B[0m                                 Traceback (most recent call last)",
      "Cell \u001B[1;32mIn[20], line 1\u001B[0m\n\u001B[1;32m----> 1\u001B[0m \u001B[43mplotScatterMatrix\u001B[49m\u001B[43m(\u001B[49m\u001B[43mdf1\u001B[49m\u001B[43m,\u001B[49m\u001B[43m \u001B[49m\u001B[38;5;241;43m20\u001B[39;49m\u001B[43m,\u001B[49m\u001B[43m \u001B[49m\u001B[38;5;241;43m10\u001B[39;49m\u001B[43m)\u001B[49m\n",
      "Cell \u001B[1;32mIn[12], line 5\u001B[0m, in \u001B[0;36mplotScatterMatrix\u001B[1;34m(df, plotSize, textSize)\u001B[0m\n\u001B[0;32m      3\u001B[0m df \u001B[38;5;241m=\u001B[39m df\u001B[38;5;241m.\u001B[39mselect_dtypes(include \u001B[38;5;241m=\u001B[39m[np\u001B[38;5;241m.\u001B[39mnumber]) \u001B[38;5;66;03m# keep only numerical columns\u001B[39;00m\n\u001B[0;32m      4\u001B[0m \u001B[38;5;66;03m# Remove rows and columns that would lead to df being singular\u001B[39;00m\n\u001B[1;32m----> 5\u001B[0m df \u001B[38;5;241m=\u001B[39m \u001B[43mdf\u001B[49m\u001B[38;5;241;43m.\u001B[39;49m\u001B[43mdropna\u001B[49m\u001B[43m(\u001B[49m\u001B[38;5;124;43m'\u001B[39;49m\u001B[38;5;124;43mcolumns\u001B[39;49m\u001B[38;5;124;43m'\u001B[39;49m\u001B[43m)\u001B[49m\n\u001B[0;32m      6\u001B[0m df \u001B[38;5;241m=\u001B[39m df[[col \u001B[38;5;28;01mfor\u001B[39;00m col \u001B[38;5;129;01min\u001B[39;00m df \u001B[38;5;28;01mif\u001B[39;00m df[col]\u001B[38;5;241m.\u001B[39mnunique() \u001B[38;5;241m>\u001B[39m \u001B[38;5;241m1\u001B[39m]] \u001B[38;5;66;03m# keep columns where there are more than 1 unique values\u001B[39;00m\n\u001B[0;32m      7\u001B[0m columnNames \u001B[38;5;241m=\u001B[39m \u001B[38;5;28mlist\u001B[39m(df)\n",
      "\u001B[1;31mTypeError\u001B[0m: DataFrame.dropna() takes 1 positional argument but 2 were given"
     ]
    }
   ],
   "execution_count": 20
  },
  {
   "metadata": {},
   "cell_type": "code",
   "outputs": [],
   "execution_count": null,
   "source": "",
   "id": "a61106e8b7c0ae22"
  }
 ],
 "metadata": {
  "kernelspec": {
   "display_name": "Python 3",
   "language": "python",
   "name": "python3"
  },
  "language_info": {
   "codemirror_mode": {
    "name": "ipython",
    "version": 2
   },
   "file_extension": ".py",
   "mimetype": "text/x-python",
   "name": "python",
   "nbconvert_exporter": "python",
   "pygments_lexer": "ipython2",
   "version": "2.7.6"
  }
 },
 "nbformat": 4,
 "nbformat_minor": 5
}
